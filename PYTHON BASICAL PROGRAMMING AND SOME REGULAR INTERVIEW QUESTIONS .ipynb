{
 "cells": [
  {
   "cell_type": "markdown",
   "id": "b052f92c",
   "metadata": {},
   "source": [
    "+ PALINDROME PROGRAM "
   ]
  },
  {
   "cell_type": "code",
   "execution_count": 1,
   "id": "15f0d1e6",
   "metadata": {},
   "outputs": [
    {
     "name": "stdout",
     "output_type": "stream",
     "text": [
      "Enter the word:malayalam\n",
      "Given word is a palindrome\n"
     ]
    }
   ],
   "source": [
    "word = input('Enter the word:')\n",
    "if (word == word[::-1]):\n",
    "    print('Given word is a palindrome')\n",
    "else:\n",
    "    print('Given word is not a palindrome')"
   ]
  },
  {
   "cell_type": "markdown",
   "id": "3bd7cff2",
   "metadata": {},
   "source": [
    "+ FIBONACCI SERIES"
   ]
  },
  {
   "cell_type": "code",
   "execution_count": 2,
   "id": "ab039203",
   "metadata": {},
   "outputs": [],
   "source": [
    "def fibonacci(n):\n",
    "    if n < 0:\n",
    "        print('Incorrect Input')\n",
    "    elif n == 0:\n",
    "        return 0\n",
    "    elif n == 1 or n == 2:\n",
    "        return 1\n",
    "    else:\n",
    "        return fibonacci(n-1)+fibonacci(n-2)"
   ]
  },
  {
   "cell_type": "code",
   "execution_count": 4,
   "id": "e4e64701",
   "metadata": {},
   "outputs": [
    {
     "data": {
      "text/plain": [
       "34"
      ]
     },
     "execution_count": 4,
     "metadata": {},
     "output_type": "execute_result"
    }
   ],
   "source": [
    "fibonacci(9)"
   ]
  },
  {
   "cell_type": "markdown",
   "id": "0e44d558",
   "metadata": {},
   "source": [
    "+ ODD OR EVEN NUMBERS"
   ]
  },
  {
   "cell_type": "code",
   "execution_count": 5,
   "id": "75d8f723",
   "metadata": {},
   "outputs": [
    {
     "name": "stdout",
     "output_type": "stream",
     "text": [
      "Enter a Value:22\n",
      "The number is even\n"
     ]
    }
   ],
   "source": [
    "n = int(input('Enter a Value:'))\n",
    "if n % 2 == 0:\n",
    "    print(\"The number is even\")\n",
    "else:\n",
    "    print(\"The number is odd\")"
   ]
  },
  {
   "cell_type": "markdown",
   "id": "7bf55111",
   "metadata": {},
   "source": [
    "+ PRIME NUMBER PROGRAM "
   ]
  },
  {
   "cell_type": "code",
   "execution_count": 10,
   "id": "fb62dbfa",
   "metadata": {},
   "outputs": [
    {
     "name": "stdout",
     "output_type": "stream",
     "text": [
      "Enter a number:14\n",
      "14 is not a prime number\n"
     ]
    }
   ],
   "source": [
    "number = int(input(\"Enter a number:\"))\n",
    "if number > 1 :\n",
    "    for i in range(2,int(number/2)+1):\n",
    "        if (number % i) == 0:\n",
    "            print(number, \"is not a prime number\")\n",
    "            break\n",
    "        else:\n",
    "            print(number, \"is a prime number\")"
   ]
  },
  {
   "cell_type": "markdown",
   "id": "0c516dcf",
   "metadata": {},
   "source": [
    "+ FACTORIAL PROGRAM \n"
   ]
  },
  {
   "cell_type": "code",
   "execution_count": 13,
   "id": "01761a2d",
   "metadata": {},
   "outputs": [],
   "source": [
    "def factorial(n):\n",
    "    return 1 if (n==0) or (n==1) else n*factorial(n-1);"
   ]
  },
  {
   "cell_type": "code",
   "execution_count": 14,
   "id": "ff00a8ed",
   "metadata": {},
   "outputs": [
    {
     "data": {
      "text/plain": [
       "120"
      ]
     },
     "execution_count": 14,
     "metadata": {},
     "output_type": "execute_result"
    }
   ],
   "source": [
    "factorial(5)"
   ]
  },
  {
   "cell_type": "markdown",
   "id": "d45e22c6",
   "metadata": {},
   "source": [
    "+ MEAN OF A VALUES "
   ]
  },
  {
   "cell_type": "code",
   "execution_count": 19,
   "id": "e551a2f2",
   "metadata": {},
   "outputs": [],
   "source": [
    "def mean(n):\n",
    "    mu = sum(n)/len(n)\n",
    "    return mu"
   ]
  },
  {
   "cell_type": "code",
   "execution_count": 21,
   "id": "5c5e36bf",
   "metadata": {},
   "outputs": [],
   "source": [
    "n = [23,67,34,68,89]"
   ]
  },
  {
   "cell_type": "code",
   "execution_count": 22,
   "id": "6d166acf",
   "metadata": {},
   "outputs": [
    {
     "data": {
      "text/plain": [
       "56.2"
      ]
     },
     "execution_count": 22,
     "metadata": {},
     "output_type": "execute_result"
    }
   ],
   "source": [
    "mean(n)"
   ]
  },
  {
   "cell_type": "markdown",
   "id": "63b0d652",
   "metadata": {},
   "source": [
    "### PYTHON ADVANTAGES"
   ]
  },
  {
   "cell_type": "markdown",
   "id": "f382932c",
   "metadata": {},
   "source": [
    "+ PYTHON IS A DYNAMICALLY TYPED LANGUAGE ( THAT MEANS IT DOES NOT NEED ANY MENTIONING OF DATA TYPES BEFORE ASSIGNING VARIABLES)\n",
    "+ PYTHON IS A SUPPORTS OBJECTED ORIENTED PROGRAMMING BECAUSE IT ALLOWS US CREATE OBJECT VARIABLES\n",
    "+ PYTHON HAS SEVERAL USAGES LIKE WEB - APPLICATIONS , DATA MODELLING , DATA ANALYSIS, BIG DATA ANALYTICS , TEST AUTOMATION "
   ]
  },
  {
   "cell_type": "markdown",
   "id": "52e16add",
   "metadata": {},
   "source": [
    "### PYTHON GLOBAL VARIABLES VS LOCAL VARIABLES"
   ]
  },
  {
   "cell_type": "markdown",
   "id": "105df5f1",
   "metadata": {},
   "source": [
    "+ Global Variables: Variables declared outside a function or in a global space are called global variables. These variables can be accessed by any function in the program.\n",
    "\n",
    "+ Local Variables: Any variable declared inside a function is known as a local variable. This variable is present in the local space and not in the global space."
   ]
  },
  {
   "cell_type": "markdown",
   "id": "39ae804f",
   "metadata": {},
   "source": [
    "### PYTHON TUPLE VS LIST "
   ]
  },
  {
   "cell_type": "markdown",
   "id": "34bf1b9a",
   "metadata": {},
   "source": [
    "+ Use a tuple to store a sequence of items that will not change.\n",
    "\n",
    "+ Use a list to store a sequence of items that may change.\n",
    "\n",
    "+ Use a dictionary when you want to associate pairs of two items."
   ]
  },
  {
   "cell_type": "markdown",
   "id": "e9aec658",
   "metadata": {},
   "source": [
    "### WHAT IS LAMBDA FUNCTION ? IN PYTHON "
   ]
  },
  {
   "cell_type": "markdown",
   "id": "89120301",
   "metadata": {},
   "source": [
    "+ Lambda is a anonymous function which can take any type of values and any number of arguments but only accepts one expression"
   ]
  },
  {
   "cell_type": "markdown",
   "id": "345c2e7b",
   "metadata": {},
   "source": [
    "### WHAT ARE TYPE CASTING IN PYTHON ? HOW CAN WE DO IT ?"
   ]
  },
  {
   "cell_type": "markdown",
   "id": "f13c78be",
   "metadata": {},
   "source": [
    "+ For example in the case of Str data types we need to change or need of data type change according to the program or problem statement in such cases we use int() as a constructor to change its data type "
   ]
  },
  {
   "cell_type": "code",
   "execution_count": 23,
   "id": "0fa4ccdc",
   "metadata": {},
   "outputs": [],
   "source": [
    "n = \"25\""
   ]
  },
  {
   "cell_type": "code",
   "execution_count": 24,
   "id": "b6d19ee4",
   "metadata": {},
   "outputs": [
    {
     "data": {
      "text/plain": [
       "str"
      ]
     },
     "execution_count": 24,
     "metadata": {},
     "output_type": "execute_result"
    }
   ],
   "source": [
    "type(n)"
   ]
  },
  {
   "cell_type": "code",
   "execution_count": 25,
   "id": "d9ae8610",
   "metadata": {},
   "outputs": [
    {
     "data": {
      "text/plain": [
       "25"
      ]
     },
     "execution_count": 25,
     "metadata": {},
     "output_type": "execute_result"
    }
   ],
   "source": [
    "int(n)"
   ]
  },
  {
   "cell_type": "markdown",
   "id": "ea50f60a",
   "metadata": {},
   "source": [
    "### What are data types in python programming "
   ]
  },
  {
   "cell_type": "markdown",
   "id": "b45fc919",
   "metadata": {},
   "source": [
    "+ Data types in python are of 3 types \n",
    "+ Numerical \n",
    "+ sequential \n",
    "+ user defined data types\n",
    "+ Numerical are : int, float , complex \n",
    "+ Sequential are : list[] , tuple(), set{} , dicts{key - value pairs}\n",
    "+ bool : True or False"
   ]
  },
  {
   "cell_type": "code",
   "execution_count": null,
   "id": "ca11a912",
   "metadata": {},
   "outputs": [],
   "source": []
  }
 ],
 "metadata": {
  "kernelspec": {
   "display_name": "Python 3 (ipykernel)",
   "language": "python",
   "name": "python3"
  },
  "language_info": {
   "codemirror_mode": {
    "name": "ipython",
    "version": 3
   },
   "file_extension": ".py",
   "mimetype": "text/x-python",
   "name": "python",
   "nbconvert_exporter": "python",
   "pygments_lexer": "ipython3",
   "version": "3.9.12"
  }
 },
 "nbformat": 4,
 "nbformat_minor": 5
}
